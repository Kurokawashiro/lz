{
 "cells": [
  {
   "cell_type": "code",
   "execution_count": 4,
   "metadata": {},
   "outputs": [],
   "source": [
    "import scipy.io as scio\n",
    "import numpy as np\n",
    "import pandas as pd\n",
    "\n",
    "from keras import Sequential\n",
    "from keras.preprocessing.sequence import pad_sequences\n",
    "from sklearn.model_selection import KFold\n",
    "from sklearn.metrics import *\n",
    "from keras.models import Sequential,Model\n",
    "from keras.layers import *\n",
    "\n",
    "from keras import backend as K\n",
    "from keras.engine.topology import Layer\n",
    "from keras import initializers, regularizers, constraints\n",
    "\n",
    "import matplotlib.pyplot as plt\n",
    "import seaborn as sns\n"
   ]
  },
  {
   "cell_type": "code",
   "execution_count": 5,
   "metadata": {},
   "outputs": [],
   "source": [
    "from IPython.core.interactiveshell import InteractiveShell\n",
    "InteractiveShell.ast_node_interactivity ='all'"
   ]
  },
  {
   "cell_type": "code",
   "execution_count": 6,
   "metadata": {},
   "outputs": [
    {
     "data": {
      "text/plain": [
       "'/Users/p.scott'"
      ]
     },
     "execution_count": 6,
     "metadata": {},
     "output_type": "execute_result"
    }
   ],
   "source": [
    "pwd"
   ]
  },
  {
   "cell_type": "code",
   "execution_count": 8,
   "metadata": {},
   "outputs": [],
   "source": [
    "PATH =\"./Desktop/lz/\""
   ]
  },
  {
   "cell_type": "code",
   "execution_count": 9,
   "metadata": {},
   "outputs": [],
   "source": [
    "data = scio.loadmat(PATH+'RHYTHMS.mat')"
   ]
  },
  {
   "cell_type": "code",
   "execution_count": 10,
   "metadata": {},
   "outputs": [
    {
     "data": {
      "text/plain": [
       "dict_keys(['__header__', '__version__', '__globals__', 'SR', 'VT', 'VF'])"
      ]
     },
     "execution_count": 10,
     "metadata": {},
     "output_type": "execute_result"
    }
   ],
   "source": [
    "data.keys()"
   ]
  },
  {
   "cell_type": "code",
   "execution_count": 11,
   "metadata": {},
   "outputs": [],
   "source": [
    "#将。mat文件中的三物件数据分别存储到三个不同的变量中\n",
    "SR_data = data['SR']\n",
    "VT_data = data['VT']\n",
    "VF_data = data['VF']"
   ]
  },
  {
   "cell_type": "code",
   "execution_count": 12,
   "metadata": {},
   "outputs": [
    {
     "data": {
      "text/plain": [
       "numpy.ndarray"
      ]
     },
     "execution_count": 12,
     "metadata": {},
     "output_type": "execute_result"
    },
    {
     "data": {
      "text/plain": [
       "numpy.ndarray"
      ]
     },
     "execution_count": 12,
     "metadata": {},
     "output_type": "execute_result"
    },
    {
     "data": {
      "text/plain": [
       "numpy.ndarray"
      ]
     },
     "execution_count": 12,
     "metadata": {},
     "output_type": "execute_result"
    }
   ],
   "source": [
    "type(SR_data)\n",
    "type(VT_data)\n",
    "type(VF_data)"
   ]
  },
  {
   "cell_type": "code",
   "execution_count": 13,
   "metadata": {
    "scrolled": true
   },
   "outputs": [
    {
     "data": {
      "text/plain": [
       "(1, 488)"
      ]
     },
     "execution_count": 13,
     "metadata": {},
     "output_type": "execute_result"
    },
    {
     "data": {
      "text/plain": [
       "(1, 46)"
      ]
     },
     "execution_count": 13,
     "metadata": {},
     "output_type": "execute_result"
    },
    {
     "data": {
      "text/plain": [
       "(1, 60)"
      ]
     },
     "execution_count": 13,
     "metadata": {},
     "output_type": "execute_result"
    }
   ],
   "source": [
    "#数据维度\n",
    "SR_data.shape\n",
    "VT_data.shape\n",
    "VF_data.shape"
   ]
  },
  {
   "cell_type": "code",
   "execution_count": 14,
   "metadata": {
    "scrolled": true
   },
   "outputs": [
    {
     "data": {
      "text/plain": [
       "array([[ 29.42975058,  27.36808684],\n",
       "       [ 29.37169797,  34.31769491],\n",
       "       [ 28.99323827,  28.28577198],\n",
       "       ...,\n",
       "       [118.21177505, 169.03518084],\n",
       "       [290.78267347, 118.58490454],\n",
       "       [122.88673417, -54.74714758]])"
      ]
     },
     "execution_count": 14,
     "metadata": {},
     "output_type": "execute_result"
    },
    {
     "data": {
      "text/plain": [
       "array([[-21.67671125,   5.42781089],\n",
       "       [-13.26543965,  11.74437439],\n",
       "       [-10.57220052,  11.94258601],\n",
       "       ...,\n",
       "       [-30.51402258,   3.98168972],\n",
       "       [-24.54658296,   9.72201618],\n",
       "       [-25.24517226,   6.82009343]])"
      ]
     },
     "execution_count": 14,
     "metadata": {},
     "output_type": "execute_result"
    },
    {
     "data": {
      "text/plain": [
       "array([[-114.81119099,  -30.38372231],\n",
       "       [-101.6909332 ,  -30.72394659],\n",
       "       [ -74.3865354 ,  -25.8404295 ],\n",
       "       ...,\n",
       "       [  26.82129656,    4.93117365],\n",
       "       [  24.09317195,    6.66421298],\n",
       "       [  12.82659701,    9.36575575]])"
      ]
     },
     "execution_count": 14,
     "metadata": {},
     "output_type": "execute_result"
    }
   ],
   "source": [
    "SR_data[0][0]\n",
    "VT_data[0][0]\n",
    "VF_data[0][0]"
   ]
  },
  {
   "cell_type": "code",
   "execution_count": 15,
   "metadata": {
    "scrolled": false
   },
   "outputs": [
    {
     "data": {
      "text/plain": [
       "488"
      ]
     },
     "execution_count": 15,
     "metadata": {},
     "output_type": "execute_result"
    }
   ],
   "source": [
    "len(SR_data[0])"
   ]
  },
  {
   "cell_type": "code",
   "execution_count": 16,
   "metadata": {},
   "outputs": [
    {
     "data": {
      "text/plain": [
       "array([ 29.42975058,  29.37169797,  28.99323827, ..., 118.21177505,\n",
       "       290.78267347, 122.88673417])"
      ]
     },
     "execution_count": 16,
     "metadata": {},
     "output_type": "execute_result"
    }
   ],
   "source": [
    "SR_data[0][0][:,0]"
   ]
  },
  {
   "cell_type": "code",
   "execution_count": 17,
   "metadata": {},
   "outputs": [],
   "source": [
    "def f(src):\n",
    "    res = []\n",
    "    for i in range(len(src[0])):\n",
    "        res.append(src[0][i][:,0])\n",
    "    return res"
   ]
  },
  {
   "cell_type": "code",
   "execution_count": 18,
   "metadata": {},
   "outputs": [],
   "source": [
    "SR_test = []\n",
    "VT_test = []\n",
    "VF_test = []"
   ]
  },
  {
   "cell_type": "code",
   "execution_count": 19,
   "metadata": {},
   "outputs": [],
   "source": [
    "#舍去频谱图当中的第一列（B列）\n",
    "SR_test = f(SR_data)\n",
    "VT_test = f(VT_data)\n",
    "VF_test = f(VF_data)"
   ]
  },
  {
   "cell_type": "code",
   "execution_count": 20,
   "metadata": {
    "scrolled": false
   },
   "outputs": [
    {
     "data": {
      "text/plain": [
       "[<matplotlib.lines.Line2D at 0x12c201ba8>]"
      ]
     },
     "execution_count": 20,
     "metadata": {},
     "output_type": "execute_result"
    },
    {
     "data": {
      "text/plain": [
       "[<matplotlib.lines.Line2D at 0x12c112400>]"
      ]
     },
     "execution_count": 20,
     "metadata": {},
     "output_type": "execute_result"
    },
    {
     "data": {
      "text/plain": [
       "[<matplotlib.lines.Line2D at 0x12c112c88>]"
      ]
     },
     "execution_count": 20,
     "metadata": {},
     "output_type": "execute_result"
    },
    {
     "data": {
      "text/plain": [
       "<matplotlib.legend.Legend at 0x12c2b7588>"
      ]
     },
     "execution_count": 20,
     "metadata": {},
     "output_type": "execute_result"
    },
    {
     "data": {
      "image/png": "[encoded data removed]",
      "text/plain": [
       "<Figure size 432x288 with 1 Axes>"
      ]
     },
     "metadata": {
      "needs_background": "light"
     },
     "output_type": "display_data"
    }
   ],
   "source": [
    "#初次尝试作图，发现数据长度不一样带来的数据高度密集\n",
    "fig,ax = plt.subplots()\n",
    "ax.plot(SR_test[0],label = 'SR')\n",
    "ax.plot(VT_test[0],label = 'VT')\n",
    "ax.plot(VF_test[0],label = 'VF')\n",
    "ax.legend(loc='lower right', frameon=False)"
   ]
  },
  {
   "cell_type": "code",
   "execution_count": 23,
   "metadata": {
    "scrolled": true
   },
   "outputs": [
    {
     "data": {
      "text/plain": [
       "<Figure size 1440x720 with 0 Axes>"
      ]
     },
     "execution_count": 23,
     "metadata": {},
     "output_type": "execute_result"
    },
    {
     "data": {
      "text/plain": [
       "(0, 800)"
      ]
     },
     "execution_count": 23,
     "metadata": {},
     "output_type": "execute_result"
    },
    {
     "data": {
      "text/plain": [
       "[<matplotlib.lines.Line2D at 0x1389cc550>]"
      ]
     },
     "execution_count": 23,
     "metadata": {},
     "output_type": "execute_result"
    },
    {
     "data": {
      "text/plain": [
       "[<matplotlib.lines.Line2D at 0x1389cc780>]"
      ]
     },
     "execution_count": 23,
     "metadata": {},
     "output_type": "execute_result"
    },
    {
     "data": {
      "text/plain": [
       "[<matplotlib.lines.Line2D at 0x1389cc9e8>]"
      ]
     },
     "execution_count": 23,
     "metadata": {},
     "output_type": "execute_result"
    },
    {
     "data": {
      "text/plain": [
       "<matplotlib.legend.Legend at 0x1389cc9b0>"
      ]
     },
     "execution_count": 23,
     "metadata": {},
     "output_type": "execute_result"
    },
    {
     "data": {
      "image/png": "[encoded data removed]",
      "text/plain": [
       "<Figure size 1440x720 with 1 Axes>"
      ]
     },
     "metadata": {
      "needs_background": "light"
     },
     "output_type": "display_data"
    }
   ],
   "source": [
    "#可以大致看出每个种类的频谱具有不一样的特征\n",
    "plt.figure(figsize=(20,10))\n",
    "plt.xlim(0,800)\n",
    "plt.plot(SR_test[100],label='SR')\n",
    "plt.plot(VT_test[1],label='VT')\n",
    "plt.plot(VF_test[20],label='VF')\n",
    "plt.legend()"
   ]
  },
  {
   "cell_type": "code",
   "execution_count": 24,
   "metadata": {},
   "outputs": [
    {
     "data": {
      "text/plain": [
       "<Figure size 1440x720 with 0 Axes>"
      ]
     },
     "execution_count": 24,
     "metadata": {},
     "output_type": "execute_result"
    },
    {
     "data": {
      "text/plain": [
       "(0, 800)"
      ]
     },
     "execution_count": 24,
     "metadata": {},
     "output_type": "execute_result"
    },
    {
     "data": {
      "text/plain": [
       "[<matplotlib.lines.Line2D at 0x138a6e128>]"
      ]
     },
     "execution_count": 24,
     "metadata": {},
     "output_type": "execute_result"
    },
    {
     "data": {
      "text/plain": [
       "[<matplotlib.lines.Line2D at 0x138b29f60>]"
      ]
     },
     "execution_count": 24,
     "metadata": {},
     "output_type": "execute_result"
    },
    {
     "data": {
      "text/plain": [
       "[<matplotlib.lines.Line2D at 0x138b29f98>]"
      ]
     },
     "execution_count": 24,
     "metadata": {},
     "output_type": "execute_result"
    },
    {
     "data": {
      "text/plain": [
       "<matplotlib.legend.Legend at 0x138b37358>"
      ]
     },
     "execution_count": 24,
     "metadata": {},
     "output_type": "execute_result"
    },
    {
     "data": {
      "image/png": "[encoded data removed]",
      "text/plain": [
       "<Figure size 1440x720 with 1 Axes>"
      ]
     },
     "metadata": {
      "needs_background": "light"
     },
     "output_type": "display_data"
    }
   ],
   "source": [
    "plt.figure(figsize=(20,10))\n",
    "plt.xlim(0,800)\n",
    "plt.plot(SR_test[0],label='SR')\n",
    "plt.plot(VT_test[0],label='VT')\n",
    "plt.plot(VF_test[0],label='VF')\n",
    "plt.legend()"
   ]
  },
  {
   "cell_type": "code",
   "execution_count": 25,
   "metadata": {},
   "outputs": [],
   "source": [
    "def show_len(data):\n",
    "    res = []\n",
    "    for i in range(len(data)):\n",
    "        res.append(len(data[i]))\n",
    "    return res"
   ]
  },
  {
   "cell_type": "code",
   "execution_count": 26,
   "metadata": {},
   "outputs": [],
   "source": [
    "#长度显示：每个数据长度都不一样，所以不能从数据长度来判断物件种类\n",
    "SR_len = show_len(SR_test)\n",
    "VT_len = show_len(VT_test)\n",
    "VF_len = show_len(VF_test)"
   ]
  },
  {
   "cell_type": "code",
   "execution_count": 27,
   "metadata": {},
   "outputs": [],
   "source": [
    "SR = pd.DataFrame({'Signal':SR_test,'Classification':'SR'})\n",
    "VT = pd.DataFrame({'Signal':VT_test,'Classification':'VT'})\n",
    "VF = pd.DataFrame({'Signal':VF_test,'Classification':'VF'})"
   ]
  },
  {
   "cell_type": "code",
   "execution_count": 28,
   "metadata": {
    "scrolled": true
   },
   "outputs": [
    {
     "data": {
      "text/html": [
       "<div>\n",
       "<style scoped>\n",
       "    .dataframe tbody tr th:only-of-type {\n",
       "        vertical-align: middle;\n",
       "    }\n",
       "\n",
       "    .dataframe tbody tr th {\n",
       "        vertical-align: top;\n",
       "    }\n",
       "\n",
       "    .dataframe thead th {\n",
       "        text-align: right;\n",
       "    }\n",
       "</style>\n",
       "<table border=\"1\" class=\"dataframe\">\n",
       "  <thead>\n",
       "    <tr style=\"text-align: right;\">\n",
       "      <th></th>\n",
       "      <th>Signal</th>\n",
       "      <th>Classification</th>\n",
       "    </tr>\n",
       "  </thead>\n",
       "  <tbody>\n",
       "    <tr>\n",
       "      <th>0</th>\n",
       "      <td>[-114.81119098866763, -101.69093320453392, -74...</td>\n",
       "      <td>VF</td>\n",
       "    </tr>\n",
       "    <tr>\n",
       "      <th>1</th>\n",
       "      <td>[12.826597008997549, 13.355284511573393, 7.215...</td>\n",
       "      <td>VF</td>\n",
       "    </tr>\n",
       "    <tr>\n",
       "      <th>2</th>\n",
       "      <td>[-80.0124272629081, -86.78797729796932, -104.7...</td>\n",
       "      <td>VF</td>\n",
       "    </tr>\n",
       "    <tr>\n",
       "      <th>3</th>\n",
       "      <td>[29.647250429222073, 32.51254305138988, 26.019...</td>\n",
       "      <td>VF</td>\n",
       "    </tr>\n",
       "    <tr>\n",
       "      <th>4</th>\n",
       "      <td>[23.218166373620686, 18.632331215883315, 14.05...</td>\n",
       "      <td>VF</td>\n",
       "    </tr>\n",
       "    <tr>\n",
       "      <th>5</th>\n",
       "      <td>[24.493514461854463, 16.002491240993066, 8.562...</td>\n",
       "      <td>VF</td>\n",
       "    </tr>\n",
       "    <tr>\n",
       "      <th>6</th>\n",
       "      <td>[-12.123384328256547, 16.864564762581125, 31.2...</td>\n",
       "      <td>VF</td>\n",
       "    </tr>\n",
       "    <tr>\n",
       "      <th>7</th>\n",
       "      <td>[-20.93338666082853, -28.8053184611498, -26.09...</td>\n",
       "      <td>VF</td>\n",
       "    </tr>\n",
       "    <tr>\n",
       "      <th>8</th>\n",
       "      <td>[-37.22138524474476, -39.08668903217398, -41.5...</td>\n",
       "      <td>VF</td>\n",
       "    </tr>\n",
       "    <tr>\n",
       "      <th>9</th>\n",
       "      <td>[6.361820509712498, 8.160367796777022, 10.7622...</td>\n",
       "      <td>VF</td>\n",
       "    </tr>\n",
       "    <tr>\n",
       "      <th>10</th>\n",
       "      <td>[-6.306969552097788, -11.445070708071214, -12....</td>\n",
       "      <td>VF</td>\n",
       "    </tr>\n",
       "    <tr>\n",
       "      <th>11</th>\n",
       "      <td>[4.348948042266897, 19.868155354391025, 27.258...</td>\n",
       "      <td>VF</td>\n",
       "    </tr>\n",
       "    <tr>\n",
       "      <th>12</th>\n",
       "      <td>[-53.673189703835604, -51.301494553921174, -39...</td>\n",
       "      <td>VF</td>\n",
       "    </tr>\n",
       "    <tr>\n",
       "      <th>13</th>\n",
       "      <td>[-72.25825936380257, -82.82030825965406, -70.8...</td>\n",
       "      <td>VF</td>\n",
       "    </tr>\n",
       "    <tr>\n",
       "      <th>14</th>\n",
       "      <td>[-80.40373355718795, -106.7790268521064, -132....</td>\n",
       "      <td>VF</td>\n",
       "    </tr>\n",
       "    <tr>\n",
       "      <th>15</th>\n",
       "      <td>[93.99724503212059, 39.040081727734716, -32.93...</td>\n",
       "      <td>VF</td>\n",
       "    </tr>\n",
       "    <tr>\n",
       "      <th>16</th>\n",
       "      <td>[-175.49701584075584, -196.52937267436178, -21...</td>\n",
       "      <td>VF</td>\n",
       "    </tr>\n",
       "    <tr>\n",
       "      <th>17</th>\n",
       "      <td>[80.87597905639136, 28.8463882204845, -14.2715...</td>\n",
       "      <td>VF</td>\n",
       "    </tr>\n",
       "    <tr>\n",
       "      <th>18</th>\n",
       "      <td>[261.5123222388126, 238.68388660111566, 220.40...</td>\n",
       "      <td>VF</td>\n",
       "    </tr>\n",
       "    <tr>\n",
       "      <th>19</th>\n",
       "      <td>[-389.69804988622724, -359.8428738379467, -325...</td>\n",
       "      <td>VF</td>\n",
       "    </tr>\n",
       "    <tr>\n",
       "      <th>20</th>\n",
       "      <td>[0.7893084675826265, -74.16108585782112, -155....</td>\n",
       "      <td>VF</td>\n",
       "    </tr>\n",
       "    <tr>\n",
       "      <th>21</th>\n",
       "      <td>[752.9162438995478, 652.1865358329401, 516.088...</td>\n",
       "      <td>VF</td>\n",
       "    </tr>\n",
       "    <tr>\n",
       "      <th>22</th>\n",
       "      <td>[7.968135578303935, 24.098504140820054, 30.309...</td>\n",
       "      <td>VF</td>\n",
       "    </tr>\n",
       "    <tr>\n",
       "      <th>23</th>\n",
       "      <td>[-51.2076917872653, -67.32195279804083, -37.66...</td>\n",
       "      <td>VF</td>\n",
       "    </tr>\n",
       "    <tr>\n",
       "      <th>24</th>\n",
       "      <td>[258.6066035104119, 263.2570822923608, 252.232...</td>\n",
       "      <td>VF</td>\n",
       "    </tr>\n",
       "    <tr>\n",
       "      <th>25</th>\n",
       "      <td>[24.540967296677724, 170.2627492497993, 335.06...</td>\n",
       "      <td>VF</td>\n",
       "    </tr>\n",
       "    <tr>\n",
       "      <th>26</th>\n",
       "      <td>[-475.88632557309074, -469.25391825558927, -46...</td>\n",
       "      <td>VF</td>\n",
       "    </tr>\n",
       "    <tr>\n",
       "      <th>27</th>\n",
       "      <td>[293.9886808212906, 295.71029180818545, 309.79...</td>\n",
       "      <td>VF</td>\n",
       "    </tr>\n",
       "    <tr>\n",
       "      <th>28</th>\n",
       "      <td>[87.2049780492422, 121.54298307574417, 113.027...</td>\n",
       "      <td>VF</td>\n",
       "    </tr>\n",
       "    <tr>\n",
       "      <th>29</th>\n",
       "      <td>[62.0965088728257, 66.23778754579344, 62.87163...</td>\n",
       "      <td>VF</td>\n",
       "    </tr>\n",
       "    <tr>\n",
       "      <th>30</th>\n",
       "      <td>[-142.78563970577608, -93.05195146988248, -28....</td>\n",
       "      <td>VF</td>\n",
       "    </tr>\n",
       "    <tr>\n",
       "      <th>31</th>\n",
       "      <td>[-119.37234852281934, -144.4269978107519, -142...</td>\n",
       "      <td>VF</td>\n",
       "    </tr>\n",
       "    <tr>\n",
       "      <th>32</th>\n",
       "      <td>[-67.02196956954288, -65.50930683822851, -75.5...</td>\n",
       "      <td>VF</td>\n",
       "    </tr>\n",
       "    <tr>\n",
       "      <th>33</th>\n",
       "      <td>[-75.53888628235568, -80.20451007426082, -81.7...</td>\n",
       "      <td>VF</td>\n",
       "    </tr>\n",
       "    <tr>\n",
       "      <th>34</th>\n",
       "      <td>[174.3417647536837, 192.8533182699751, 193.651...</td>\n",
       "      <td>VF</td>\n",
       "    </tr>\n",
       "    <tr>\n",
       "      <th>35</th>\n",
       "      <td>[146.54534495675813, 125.3371726883754, 122.70...</td>\n",
       "      <td>VF</td>\n",
       "    </tr>\n",
       "    <tr>\n",
       "      <th>36</th>\n",
       "      <td>[143.87025302319404, 156.69756917789047, 177.6...</td>\n",
       "      <td>VF</td>\n",
       "    </tr>\n",
       "    <tr>\n",
       "      <th>37</th>\n",
       "      <td>[-134.50352952604783, -448.25818109532025, -50...</td>\n",
       "      <td>VF</td>\n",
       "    </tr>\n",
       "    <tr>\n",
       "      <th>38</th>\n",
       "      <td>[-173.98456306945047, -211.90967807681483, -23...</td>\n",
       "      <td>VF</td>\n",
       "    </tr>\n",
       "    <tr>\n",
       "      <th>39</th>\n",
       "      <td>[-20.088193666967648, -31.342269881611685, -25...</td>\n",
       "      <td>VF</td>\n",
       "    </tr>\n",
       "    <tr>\n",
       "      <th>40</th>\n",
       "      <td>[-301.7315460914758, -315.5198562575715, -505....</td>\n",
       "      <td>VF</td>\n",
       "    </tr>\n",
       "    <tr>\n",
       "      <th>41</th>\n",
       "      <td>[-523.0133279656789, -507.4255423561594, -463....</td>\n",
       "      <td>VF</td>\n",
       "    </tr>\n",
       "    <tr>\n",
       "      <th>42</th>\n",
       "      <td>[-153.61810871456004, -150.14002269903895, -15...</td>\n",
       "      <td>VF</td>\n",
       "    </tr>\n",
       "    <tr>\n",
       "      <th>43</th>\n",
       "      <td>[-122.49237067591847, -132.01400881375196, -12...</td>\n",
       "      <td>VF</td>\n",
       "    </tr>\n",
       "    <tr>\n",
       "      <th>44</th>\n",
       "      <td>[-102.19748480761463, -96.98635770979767, -101...</td>\n",
       "      <td>VF</td>\n",
       "    </tr>\n",
       "    <tr>\n",
       "      <th>45</th>\n",
       "      <td>[30.52304752602874, 23.752833428990463, 14.451...</td>\n",
       "      <td>VF</td>\n",
       "    </tr>\n",
       "    <tr>\n",
       "      <th>46</th>\n",
       "      <td>[-302.0868829148988, -292.39975331528916, -262...</td>\n",
       "      <td>VF</td>\n",
       "    </tr>\n",
       "    <tr>\n",
       "      <th>47</th>\n",
       "      <td>[-103.29127573884888, 45.3849852584947, 195.15...</td>\n",
       "      <td>VF</td>\n",
       "    </tr>\n",
       "    <tr>\n",
       "      <th>48</th>\n",
       "      <td>[0.42609167767659784, 90.94168489209729, 159.5...</td>\n",
       "      <td>VF</td>\n",
       "    </tr>\n",
       "    <tr>\n",
       "      <th>49</th>\n",
       "      <td>[281.5712010317593, 296.5559898772342, 350.724...</td>\n",
       "      <td>VF</td>\n",
       "    </tr>\n",
       "    <tr>\n",
       "      <th>50</th>\n",
       "      <td>[498.4713176351266, 553.0253856918677, 596.544...</td>\n",
       "      <td>VF</td>\n",
       "    </tr>\n",
       "    <tr>\n",
       "      <th>51</th>\n",
       "      <td>[-346.3876933053859, -385.7867133927145, -418....</td>\n",
       "      <td>VF</td>\n",
       "    </tr>\n",
       "    <tr>\n",
       "      <th>52</th>\n",
       "      <td>[-703.5883459345854, -528.8799550984681, -389....</td>\n",
       "      <td>VF</td>\n",
       "    </tr>\n",
       "    <tr>\n",
       "      <th>53</th>\n",
       "      <td>[84.693306258884, 144.26173233585132, 199.5158...</td>\n",
       "      <td>VF</td>\n",
       "    </tr>\n",
       "    <tr>\n",
       "      <th>54</th>\n",
       "      <td>[314.5979295471562, 306.1033281087528, 281.377...</td>\n",
       "      <td>VF</td>\n",
       "    </tr>\n",
       "    <tr>\n",
       "      <th>55</th>\n",
       "      <td>[-364.2165647300887, -346.6530126824402, -324....</td>\n",
       "      <td>VF</td>\n",
       "    </tr>\n",
       "    <tr>\n",
       "      <th>56</th>\n",
       "      <td>[-245.7848731132956, -246.78189464938336, -249...</td>\n",
       "      <td>VF</td>\n",
       "    </tr>\n",
       "    <tr>\n",
       "      <th>57</th>\n",
       "      <td>[-603.5874955793503, -597.3271184492215, -583....</td>\n",
       "      <td>VF</td>\n",
       "    </tr>\n",
       "    <tr>\n",
       "      <th>58</th>\n",
       "      <td>[-464.9091588920607, -484.7744486997489, -510....</td>\n",
       "      <td>VF</td>\n",
       "    </tr>\n",
       "    <tr>\n",
       "      <th>59</th>\n",
       "      <td>[546.2394283746164, 501.19904275839144, 437.75...</td>\n",
       "      <td>VF</td>\n",
       "    </tr>\n",
       "  </tbody>\n",
       "</table>\n",
       "</div>"
      ],
      "text/plain": [
       "                                               Signal Classification\n",
       "0   [-114.81119098866763, -101.69093320453392, -74...             VF\n",
       "1   [12.826597008997549, 13.355284511573393, 7.215...             VF\n",
       "2   [-80.0124272629081, -86.78797729796932, -104.7...             VF\n",
       "3   [29.647250429222073, 32.51254305138988, 26.019...             VF\n",
       "4   [23.218166373620686, 18.632331215883315, 14.05...             VF\n",
       "5   [24.493514461854463, 16.002491240993066, 8.562...             VF\n",
       "6   [-12.123384328256547, 16.864564762581125, 31.2...             VF\n",
       "7   [-20.93338666082853, -28.8053184611498, -26.09...             VF\n",
       "8   [-37.22138524474476, -39.08668903217398, -41.5...             VF\n",
       "9   [6.361820509712498, 8.160367796777022, 10.7622...             VF\n",
       "10  [-6.306969552097788, -11.445070708071214, -12....             VF\n",
       "11  [4.348948042266897, 19.868155354391025, 27.258...             VF\n",
       "12  [-53.673189703835604, -51.301494553921174, -39...             VF\n",
       "13  [-72.25825936380257, -82.82030825965406, -70.8...             VF\n",
       "14  [-80.40373355718795, -106.7790268521064, -132....             VF\n",
       "15  [93.99724503212059, 39.040081727734716, -32.93...             VF\n",
       "16  [-175.49701584075584, -196.52937267436178, -21...             VF\n",
       "17  [80.87597905639136, 28.8463882204845, -14.2715...             VF\n",
       "18  [261.5123222388126, 238.68388660111566, 220.40...             VF\n",
       "19  [-389.69804988622724, -359.8428738379467, -325...             VF\n",
       "20  [0.7893084675826265, -74.16108585782112, -155....             VF\n",
       "21  [752.9162438995478, 652.1865358329401, 516.088...             VF\n",
       "22  [7.968135578303935, 24.098504140820054, 30.309...             VF\n",
       "23  [-51.2076917872653, -67.32195279804083, -37.66...             VF\n",
       "24  [258.6066035104119, 263.2570822923608, 252.232...             VF\n",
       "25  [24.540967296677724, 170.2627492497993, 335.06...             VF\n",
       "26  [-475.88632557309074, -469.25391825558927, -46...             VF\n",
       "27  [293.9886808212906, 295.71029180818545, 309.79...             VF\n",
       "28  [87.2049780492422, 121.54298307574417, 113.027...             VF\n",
       "29  [62.0965088728257, 66.23778754579344, 62.87163...             VF\n",
       "30  [-142.78563970577608, -93.05195146988248, -28....             VF\n",
       "31  [-119.37234852281934, -144.4269978107519, -142...             VF\n",
       "32  [-67.02196956954288, -65.50930683822851, -75.5...             VF\n",
       "33  [-75.53888628235568, -80.20451007426082, -81.7...             VF\n",
       "34  [174.3417647536837, 192.8533182699751, 193.651...             VF\n",
       "35  [146.54534495675813, 125.3371726883754, 122.70...             VF\n",
       "36  [143.87025302319404, 156.69756917789047, 177.6...             VF\n",
       "37  [-134.50352952604783, -448.25818109532025, -50...             VF\n",
       "38  [-173.98456306945047, -211.90967807681483, -23...             VF\n",
       "39  [-20.088193666967648, -31.342269881611685, -25...             VF\n",
       "40  [-301.7315460914758, -315.5198562575715, -505....             VF\n",
       "41  [-523.0133279656789, -507.4255423561594, -463....             VF\n",
       "42  [-153.61810871456004, -150.14002269903895, -15...             VF\n",
       "43  [-122.49237067591847, -132.01400881375196, -12...             VF\n",
       "44  [-102.19748480761463, -96.98635770979767, -101...             VF\n",
       "45  [30.52304752602874, 23.752833428990463, 14.451...             VF\n",
       "46  [-302.0868829148988, -292.39975331528916, -262...             VF\n",
       "47  [-103.29127573884888, 45.3849852584947, 195.15...             VF\n",
       "48  [0.42609167767659784, 90.94168489209729, 159.5...             VF\n",
       "49  [281.5712010317593, 296.5559898772342, 350.724...             VF\n",
       "50  [498.4713176351266, 553.0253856918677, 596.544...             VF\n",
       "51  [-346.3876933053859, -385.7867133927145, -418....             VF\n",
       "52  [-703.5883459345854, -528.8799550984681, -389....             VF\n",
       "53  [84.693306258884, 144.26173233585132, 199.5158...             VF\n",
       "54  [314.5979295471562, 306.1033281087528, 281.377...             VF\n",
       "55  [-364.2165647300887, -346.6530126824402, -324....             VF\n",
       "56  [-245.7848731132956, -246.78189464938336, -249...             VF\n",
       "57  [-603.5874955793503, -597.3271184492215, -583....             VF\n",
       "58  [-464.9091588920607, -484.7744486997489, -510....             VF\n",
       "59  [546.2394283746164, 501.19904275839144, 437.75...             VF"
      ]
     },
     "execution_count": 28,
     "metadata": {},
     "output_type": "execute_result"
    }
   ],
   "source": [
    "VF"
   ]
  },
  {
   "cell_type": "code",
   "execution_count": 29,
   "metadata": {},
   "outputs": [],
   "source": [
    "all_data = pd.concat([SR,VT,VF])"
   ]
  },
  {
   "cell_type": "code",
   "execution_count": 30,
   "metadata": {
    "scrolled": true
   },
   "outputs": [
    {
     "data": {
      "text/html": [
       "<div>\n",
       "<style scoped>\n",
       "    .dataframe tbody tr th:only-of-type {\n",
       "        vertical-align: middle;\n",
       "    }\n",
       "\n",
       "    .dataframe tbody tr th {\n",
       "        vertical-align: top;\n",
       "    }\n",
       "\n",
       "    .dataframe thead th {\n",
       "        text-align: right;\n",
       "    }\n",
       "</style>\n",
       "<table border=\"1\" class=\"dataframe\">\n",
       "  <thead>\n",
       "    <tr style=\"text-align: right;\">\n",
       "      <th></th>\n",
       "      <th>Signal</th>\n",
       "      <th>Classification</th>\n",
       "    </tr>\n",
       "  </thead>\n",
       "  <tbody>\n",
       "    <tr>\n",
       "      <th>0</th>\n",
       "      <td>[29.42975058166, 29.37169797310235, 28.9932382...</td>\n",
       "      <td>SR</td>\n",
       "    </tr>\n",
       "    <tr>\n",
       "      <th>1</th>\n",
       "      <td>[-8.887452260151282, -6.318858287707609, -4.24...</td>\n",
       "      <td>SR</td>\n",
       "    </tr>\n",
       "    <tr>\n",
       "      <th>2</th>\n",
       "      <td>[12.790383577957149, 7.893029776621113, 8.0538...</td>\n",
       "      <td>SR</td>\n",
       "    </tr>\n",
       "    <tr>\n",
       "      <th>3</th>\n",
       "      <td>[-3.836657273045951, -5.199758952374646, -4.43...</td>\n",
       "      <td>SR</td>\n",
       "    </tr>\n",
       "    <tr>\n",
       "      <th>4</th>\n",
       "      <td>[-25.87328222407625, -21.18422677138712, -16.9...</td>\n",
       "      <td>SR</td>\n",
       "    </tr>\n",
       "    <tr>\n",
       "      <th>5</th>\n",
       "      <td>[69.88652647369534, 101.4635148870283, 65.0005...</td>\n",
       "      <td>SR</td>\n",
       "    </tr>\n",
       "    <tr>\n",
       "      <th>6</th>\n",
       "      <td>[72.21190031860417, 59.53650854336529, 55.1409...</td>\n",
       "      <td>SR</td>\n",
       "    </tr>\n",
       "    <tr>\n",
       "      <th>7</th>\n",
       "      <td>[72.78028273100328, 69.30635382594558, 67.3578...</td>\n",
       "      <td>SR</td>\n",
       "    </tr>\n",
       "    <tr>\n",
       "      <th>8</th>\n",
       "      <td>[4.862226746248392, 1.823196617050331, 6.43569...</td>\n",
       "      <td>SR</td>\n",
       "    </tr>\n",
       "    <tr>\n",
       "      <th>9</th>\n",
       "      <td>[60.828292819390015, 62.79440962378961, 67.711...</td>\n",
       "      <td>SR</td>\n",
       "    </tr>\n",
       "    <tr>\n",
       "      <th>10</th>\n",
       "      <td>[67.5451439293891, 68.36171470708278, 67.70844...</td>\n",
       "      <td>SR</td>\n",
       "    </tr>\n",
       "    <tr>\n",
       "      <th>11</th>\n",
       "      <td>[64.6221308674891, 67.83945803218002, 70.32844...</td>\n",
       "      <td>SR</td>\n",
       "    </tr>\n",
       "    <tr>\n",
       "      <th>12</th>\n",
       "      <td>[68.09689698939792, 67.2880708047061, 68.64517...</td>\n",
       "      <td>SR</td>\n",
       "    </tr>\n",
       "    <tr>\n",
       "      <th>13</th>\n",
       "      <td>[70.09917368956502, 71.4689295814842, 69.96162...</td>\n",
       "      <td>SR</td>\n",
       "    </tr>\n",
       "    <tr>\n",
       "      <th>14</th>\n",
       "      <td>[65.41057239443897, 68.61128314480341, 67.6757...</td>\n",
       "      <td>SR</td>\n",
       "    </tr>\n",
       "    <tr>\n",
       "      <th>15</th>\n",
       "      <td>[72.0951191162153, 70.71064915497801, 75.01276...</td>\n",
       "      <td>SR</td>\n",
       "    </tr>\n",
       "    <tr>\n",
       "      <th>16</th>\n",
       "      <td>[-9.944445663026757, -9.53281551442416, -10.97...</td>\n",
       "      <td>SR</td>\n",
       "    </tr>\n",
       "    <tr>\n",
       "      <th>17</th>\n",
       "      <td>[58.99864247508004, 37.85015151584994, 27.2772...</td>\n",
       "      <td>SR</td>\n",
       "    </tr>\n",
       "    <tr>\n",
       "      <th>18</th>\n",
       "      <td>[-40.88740368562989, -44.73111362091197, -43.9...</td>\n",
       "      <td>SR</td>\n",
       "    </tr>\n",
       "    <tr>\n",
       "      <th>19</th>\n",
       "      <td>[-19.554305236846353, -21.713759859480998, -20...</td>\n",
       "      <td>SR</td>\n",
       "    </tr>\n",
       "    <tr>\n",
       "      <th>20</th>\n",
       "      <td>[-28.4579923273322, -31.485783078433222, -27.8...</td>\n",
       "      <td>SR</td>\n",
       "    </tr>\n",
       "    <tr>\n",
       "      <th>21</th>\n",
       "      <td>[-45.33481229307624, -48.30815688657471, -50.4...</td>\n",
       "      <td>SR</td>\n",
       "    </tr>\n",
       "    <tr>\n",
       "      <th>22</th>\n",
       "      <td>[-41.134320094866474, -25.418569040857424, -20...</td>\n",
       "      <td>SR</td>\n",
       "    </tr>\n",
       "    <tr>\n",
       "      <th>23</th>\n",
       "      <td>[-19.374197668605028, -15.772928598924754, -12...</td>\n",
       "      <td>SR</td>\n",
       "    </tr>\n",
       "    <tr>\n",
       "      <th>24</th>\n",
       "      <td>[-24.432469891901942, -30.201621283545226, -34...</td>\n",
       "      <td>SR</td>\n",
       "    </tr>\n",
       "    <tr>\n",
       "      <th>25</th>\n",
       "      <td>[-5.763068149343725, -6.849776765879232, -2.21...</td>\n",
       "      <td>SR</td>\n",
       "    </tr>\n",
       "    <tr>\n",
       "      <th>26</th>\n",
       "      <td>[-39.6005667931623, -42.54391108634371, -43.84...</td>\n",
       "      <td>SR</td>\n",
       "    </tr>\n",
       "    <tr>\n",
       "      <th>27</th>\n",
       "      <td>[-43.51442706497546, -43.540915897651125, -44....</td>\n",
       "      <td>SR</td>\n",
       "    </tr>\n",
       "    <tr>\n",
       "      <th>28</th>\n",
       "      <td>[-20.931995424471413, -17.56645370506325, -14....</td>\n",
       "      <td>SR</td>\n",
       "    </tr>\n",
       "    <tr>\n",
       "      <th>29</th>\n",
       "      <td>[-59.83357229969881, -64.12088684988204, -61.2...</td>\n",
       "      <td>SR</td>\n",
       "    </tr>\n",
       "    <tr>\n",
       "      <th>...</th>\n",
       "      <td>...</td>\n",
       "      <td>...</td>\n",
       "    </tr>\n",
       "    <tr>\n",
       "      <th>30</th>\n",
       "      <td>[-142.78563970577608, -93.05195146988248, -28....</td>\n",
       "      <td>VF</td>\n",
       "    </tr>\n",
       "    <tr>\n",
       "      <th>31</th>\n",
       "      <td>[-119.37234852281934, -144.4269978107519, -142...</td>\n",
       "      <td>VF</td>\n",
       "    </tr>\n",
       "    <tr>\n",
       "      <th>32</th>\n",
       "      <td>[-67.02196956954288, -65.50930683822851, -75.5...</td>\n",
       "      <td>VF</td>\n",
       "    </tr>\n",
       "    <tr>\n",
       "      <th>33</th>\n",
       "      <td>[-75.53888628235568, -80.20451007426082, -81.7...</td>\n",
       "      <td>VF</td>\n",
       "    </tr>\n",
       "    <tr>\n",
       "      <th>34</th>\n",
       "      <td>[174.3417647536837, 192.8533182699751, 193.651...</td>\n",
       "      <td>VF</td>\n",
       "    </tr>\n",
       "    <tr>\n",
       "      <th>35</th>\n",
       "      <td>[146.54534495675813, 125.3371726883754, 122.70...</td>\n",
       "      <td>VF</td>\n",
       "    </tr>\n",
       "    <tr>\n",
       "      <th>36</th>\n",
       "      <td>[143.87025302319404, 156.69756917789047, 177.6...</td>\n",
       "      <td>VF</td>\n",
       "    </tr>\n",
       "    <tr>\n",
       "      <th>37</th>\n",
       "      <td>[-134.50352952604783, -448.25818109532025, -50...</td>\n",
       "      <td>VF</td>\n",
       "    </tr>\n",
       "    <tr>\n",
       "      <th>38</th>\n",
       "      <td>[-173.98456306945047, -211.90967807681483, -23...</td>\n",
       "      <td>VF</td>\n",
       "    </tr>\n",
       "    <tr>\n",
       "      <th>39</th>\n",
       "      <td>[-20.088193666967648, -31.342269881611685, -25...</td>\n",
       "      <td>VF</td>\n",
       "    </tr>\n",
       "    <tr>\n",
       "      <th>40</th>\n",
       "      <td>[-301.7315460914758, -315.5198562575715, -505....</td>\n",
       "      <td>VF</td>\n",
       "    </tr>\n",
       "    <tr>\n",
       "      <th>41</th>\n",
       "      <td>[-523.0133279656789, -507.4255423561594, -463....</td>\n",
       "      <td>VF</td>\n",
       "    </tr>\n",
       "    <tr>\n",
       "      <th>42</th>\n",
       "      <td>[-153.61810871456004, -150.14002269903895, -15...</td>\n",
       "      <td>VF</td>\n",
       "    </tr>\n",
       "    <tr>\n",
       "      <th>43</th>\n",
       "      <td>[-122.49237067591847, -132.01400881375196, -12...</td>\n",
       "      <td>VF</td>\n",
       "    </tr>\n",
       "    <tr>\n",
       "      <th>44</th>\n",
       "      <td>[-102.19748480761463, -96.98635770979767, -101...</td>\n",
       "      <td>VF</td>\n",
       "    </tr>\n",
       "    <tr>\n",
       "      <th>45</th>\n",
       "      <td>[30.52304752602874, 23.752833428990463, 14.451...</td>\n",
       "      <td>VF</td>\n",
       "    </tr>\n",
       "    <tr>\n",
       "      <th>46</th>\n",
       "      <td>[-302.0868829148988, -292.39975331528916, -262...</td>\n",
       "      <td>VF</td>\n",
       "    </tr>\n",
       "    <tr>\n",
       "      <th>47</th>\n",
       "      <td>[-103.29127573884888, 45.3849852584947, 195.15...</td>\n",
       "      <td>VF</td>\n",
       "    </tr>\n",
       "    <tr>\n",
       "      <th>48</th>\n",
       "      <td>[0.42609167767659784, 90.94168489209729, 159.5...</td>\n",
       "      <td>VF</td>\n",
       "    </tr>\n",
       "    <tr>\n",
       "      <th>49</th>\n",
       "      <td>[281.5712010317593, 296.5559898772342, 350.724...</td>\n",
       "      <td>VF</td>\n",
       "    </tr>\n",
       "    <tr>\n",
       "      <th>50</th>\n",
       "      <td>[498.4713176351266, 553.0253856918677, 596.544...</td>\n",
       "      <td>VF</td>\n",
       "    </tr>\n",
       "    <tr>\n",
       "      <th>51</th>\n",
       "      <td>[-346.3876933053859, -385.7867133927145, -418....</td>\n",
       "      <td>VF</td>\n",
       "    </tr>\n",
       "    <tr>\n",
       "      <th>52</th>\n",
       "      <td>[-703.5883459345854, -528.8799550984681, -389....</td>\n",
       "      <td>VF</td>\n",
       "    </tr>\n",
       "    <tr>\n",
       "      <th>53</th>\n",
       "      <td>[84.693306258884, 144.26173233585132, 199.5158...</td>\n",
       "      <td>VF</td>\n",
       "    </tr>\n",
       "    <tr>\n",
       "      <th>54</th>\n",
       "      <td>[314.5979295471562, 306.1033281087528, 281.377...</td>\n",
       "      <td>VF</td>\n",
       "    </tr>\n",
       "    <tr>\n",
       "      <th>55</th>\n",
       "      <td>[-364.2165647300887, -346.6530126824402, -324....</td>\n",
       "      <td>VF</td>\n",
       "    </tr>\n",
       "    <tr>\n",
       "      <th>56</th>\n",
       "      <td>[-245.7848731132956, -246.78189464938336, -249...</td>\n",
       "      <td>VF</td>\n",
       "    </tr>\n",
       "    <tr>\n",
       "      <th>57</th>\n",
       "      <td>[-603.5874955793503, -597.3271184492215, -583....</td>\n",
       "      <td>VF</td>\n",
       "    </tr>\n",
       "    <tr>\n",
       "      <th>58</th>\n",
       "      <td>[-464.9091588920607, -484.7744486997489, -510....</td>\n",
       "      <td>VF</td>\n",
       "    </tr>\n",
       "    <tr>\n",
       "      <th>59</th>\n",
       "      <td>[546.2394283746164, 501.19904275839144, 437.75...</td>\n",
       "      <td>VF</td>\n",
       "    </tr>\n",
       "  </tbody>\n",
       "</table>\n",
       "<p>594 rows × 2 columns</p>\n",
       "</div>"
      ],
      "text/plain": [
       "                                               Signal Classification\n",
       "0   [29.42975058166, 29.37169797310235, 28.9932382...             SR\n",
       "1   [-8.887452260151282, -6.318858287707609, -4.24...             SR\n",
       "2   [12.790383577957149, 7.893029776621113, 8.0538...             SR\n",
       "3   [-3.836657273045951, -5.199758952374646, -4.43...             SR\n",
       "4   [-25.87328222407625, -21.18422677138712, -16.9...             SR\n",
       "..                                                ...            ...\n",
       "55  [-364.2165647300887, -346.6530126824402, -324....             VF\n",
       "56  [-245.7848731132956, -246.78189464938336, -249...             VF\n",
       "57  [-603.5874955793503, -597.3271184492215, -583....             VF\n",
       "58  [-464.9091588920607, -484.7744486997489, -510....             VF\n",
       "59  [546.2394283746164, 501.19904275839144, 437.75...             VF\n",
       "\n",
       "[594 rows x 2 columns]"
      ]
     },
     "execution_count": 30,
     "metadata": {},
     "output_type": "execute_result"
    }
   ],
   "source": [
    "all_data"
   ]
  },
  {
   "cell_type": "code",
   "execution_count": 31,
   "metadata": {},
   "outputs": [],
   "source": [
    "all_data = all_data.reset_index(drop=True)"
   ]
  },
  {
   "cell_type": "code",
   "execution_count": 32,
   "metadata": {
    "scrolled": true
   },
   "outputs": [
    {
     "data": {
      "text/html": [
       "<div>\n",
       "<style scoped>\n",
       "    .dataframe tbody tr th:only-of-type {\n",
       "        vertical-align: middle;\n",
       "    }\n",
       "\n",
       "    .dataframe tbody tr th {\n",
       "        vertical-align: top;\n",
       "    }\n",
       "\n",
       "    .dataframe thead th {\n",
       "        text-align: right;\n",
       "    }\n",
       "</style>\n",
       "<table border=\"1\" class=\"dataframe\">\n",
       "  <thead>\n",
       "    <tr style=\"text-align: right;\">\n",
       "      <th></th>\n",
       "      <th>Signal</th>\n",
       "      <th>Classification</th>\n",
       "    </tr>\n",
       "  </thead>\n",
       "  <tbody>\n",
       "    <tr>\n",
       "      <th>0</th>\n",
       "      <td>[29.42975058166, 29.37169797310235, 28.9932382...</td>\n",
       "      <td>SR</td>\n",
       "    </tr>\n",
       "    <tr>\n",
       "      <th>1</th>\n",
       "      <td>[-8.887452260151282, -6.318858287707609, -4.24...</td>\n",
       "      <td>SR</td>\n",
       "    </tr>\n",
       "    <tr>\n",
       "      <th>2</th>\n",
       "      <td>[12.790383577957149, 7.893029776621113, 8.0538...</td>\n",
       "      <td>SR</td>\n",
       "    </tr>\n",
       "    <tr>\n",
       "      <th>3</th>\n",
       "      <td>[-3.836657273045951, -5.199758952374646, -4.43...</td>\n",
       "      <td>SR</td>\n",
       "    </tr>\n",
       "    <tr>\n",
       "      <th>4</th>\n",
       "      <td>[-25.87328222407625, -21.18422677138712, -16.9...</td>\n",
       "      <td>SR</td>\n",
       "    </tr>\n",
       "    <tr>\n",
       "      <th>5</th>\n",
       "      <td>[69.88652647369534, 101.4635148870283, 65.0005...</td>\n",
       "      <td>SR</td>\n",
       "    </tr>\n",
       "    <tr>\n",
       "      <th>6</th>\n",
       "      <td>[72.21190031860417, 59.53650854336529, 55.1409...</td>\n",
       "      <td>SR</td>\n",
       "    </tr>\n",
       "    <tr>\n",
       "      <th>7</th>\n",
       "      <td>[72.78028273100328, 69.30635382594558, 67.3578...</td>\n",
       "      <td>SR</td>\n",
       "    </tr>\n",
       "    <tr>\n",
       "      <th>8</th>\n",
       "      <td>[4.862226746248392, 1.823196617050331, 6.43569...</td>\n",
       "      <td>SR</td>\n",
       "    </tr>\n",
       "    <tr>\n",
       "      <th>9</th>\n",
       "      <td>[60.828292819390015, 62.79440962378961, 67.711...</td>\n",
       "      <td>SR</td>\n",
       "    </tr>\n",
       "    <tr>\n",
       "      <th>10</th>\n",
       "      <td>[67.5451439293891, 68.36171470708278, 67.70844...</td>\n",
       "      <td>SR</td>\n",
       "    </tr>\n",
       "    <tr>\n",
       "      <th>11</th>\n",
       "      <td>[64.6221308674891, 67.83945803218002, 70.32844...</td>\n",
       "      <td>SR</td>\n",
       "    </tr>\n",
       "    <tr>\n",
       "      <th>12</th>\n",
       "      <td>[68.09689698939792, 67.2880708047061, 68.64517...</td>\n",
       "      <td>SR</td>\n",
       "    </tr>\n",
       "    <tr>\n",
       "      <th>13</th>\n",
       "      <td>[70.09917368956502, 71.4689295814842, 69.96162...</td>\n",
       "      <td>SR</td>\n",
       "    </tr>\n",
       "    <tr>\n",
       "      <th>14</th>\n",
       "      <td>[65.41057239443897, 68.61128314480341, 67.6757...</td>\n",
       "      <td>SR</td>\n",
       "    </tr>\n",
       "    <tr>\n",
       "      <th>15</th>\n",
       "      <td>[72.0951191162153, 70.71064915497801, 75.01276...</td>\n",
       "      <td>SR</td>\n",
       "    </tr>\n",
       "    <tr>\n",
       "      <th>16</th>\n",
       "      <td>[-9.944445663026757, -9.53281551442416, -10.97...</td>\n",
       "      <td>SR</td>\n",
       "    </tr>\n",
       "    <tr>\n",
       "      <th>17</th>\n",
       "      <td>[58.99864247508004, 37.85015151584994, 27.2772...</td>\n",
       "      <td>SR</td>\n",
       "    </tr>\n",
       "    <tr>\n",
       "      <th>18</th>\n",
       "      <td>[-40.88740368562989, -44.73111362091197, -43.9...</td>\n",
       "      <td>SR</td>\n",
       "    </tr>\n",
       "    <tr>\n",
       "      <th>19</th>\n",
       "      <td>[-19.554305236846353, -21.713759859480998, -20...</td>\n",
       "      <td>SR</td>\n",
       "    </tr>\n",
       "    <tr>\n",
       "      <th>20</th>\n",
       "      <td>[-28.4579923273322, -31.485783078433222, -27.8...</td>\n",
       "      <td>SR</td>\n",
       "    </tr>\n",
       "    <tr>\n",
       "      <th>21</th>\n",
       "      <td>[-45.33481229307624, -48.30815688657471, -50.4...</td>\n",
       "      <td>SR</td>\n",
       "    </tr>\n",
       "    <tr>\n",
       "      <th>22</th>\n",
       "      <td>[-41.134320094866474, -25.418569040857424, -20...</td>\n",
       "      <td>SR</td>\n",
       "    </tr>\n",
       "    <tr>\n",
       "      <th>23</th>\n",
       "      <td>[-19.374197668605028, -15.772928598924754, -12...</td>\n",
       "      <td>SR</td>\n",
       "    </tr>\n",
       "    <tr>\n",
       "      <th>24</th>\n",
       "      <td>[-24.432469891901942, -30.201621283545226, -34...</td>\n",
       "      <td>SR</td>\n",
       "    </tr>\n",
       "    <tr>\n",
       "      <th>25</th>\n",
       "      <td>[-5.763068149343725, -6.849776765879232, -2.21...</td>\n",
       "      <td>SR</td>\n",
       "    </tr>\n",
       "    <tr>\n",
       "      <th>26</th>\n",
       "      <td>[-39.6005667931623, -42.54391108634371, -43.84...</td>\n",
       "      <td>SR</td>\n",
       "    </tr>\n",
       "    <tr>\n",
       "      <th>27</th>\n",
       "      <td>[-43.51442706497546, -43.540915897651125, -44....</td>\n",
       "      <td>SR</td>\n",
       "    </tr>\n",
       "    <tr>\n",
       "      <th>28</th>\n",
       "      <td>[-20.931995424471413, -17.56645370506325, -14....</td>\n",
       "      <td>SR</td>\n",
       "    </tr>\n",
       "    <tr>\n",
       "      <th>29</th>\n",
       "      <td>[-59.83357229969881, -64.12088684988204, -61.2...</td>\n",
       "      <td>SR</td>\n",
       "    </tr>\n",
       "    <tr>\n",
       "      <th>...</th>\n",
       "      <td>...</td>\n",
       "      <td>...</td>\n",
       "    </tr>\n",
       "    <tr>\n",
       "      <th>564</th>\n",
       "      <td>[-142.78563970577608, -93.05195146988248, -28....</td>\n",
       "      <td>VF</td>\n",
       "    </tr>\n",
       "    <tr>\n",
       "      <th>565</th>\n",
       "      <td>[-119.37234852281934, -144.4269978107519, -142...</td>\n",
       "      <td>VF</td>\n",
       "    </tr>\n",
       "    <tr>\n",
       "      <th>566</th>\n",
       "      <td>[-67.02196956954288, -65.50930683822851, -75.5...</td>\n",
       "      <td>VF</td>\n",
       "    </tr>\n",
       "    <tr>\n",
       "      <th>567</th>\n",
       "      <td>[-75.53888628235568, -80.20451007426082, -81.7...</td>\n",
       "      <td>VF</td>\n",
       "    </tr>\n",
       "    <tr>\n",
       "      <th>568</th>\n",
       "      <td>[174.3417647536837, 192.8533182699751, 193.651...</td>\n",
       "      <td>VF</td>\n",
       "    </tr>\n",
       "    <tr>\n",
       "      <th>569</th>\n",
       "      <td>[146.54534495675813, 125.3371726883754, 122.70...</td>\n",
       "      <td>VF</td>\n",
       "    </tr>\n",
       "    <tr>\n",
       "      <th>570</th>\n",
       "      <td>[143.87025302319404, 156.69756917789047, 177.6...</td>\n",
       "      <td>VF</td>\n",
       "    </tr>\n",
       "    <tr>\n",
       "      <th>571</th>\n",
       "      <td>[-134.50352952604783, -448.25818109532025, -50...</td>\n",
       "      <td>VF</td>\n",
       "    </tr>\n",
       "    <tr>\n",
       "      <th>572</th>\n",
       "      <td>[-173.98456306945047, -211.90967807681483, -23...</td>\n",
       "      <td>VF</td>\n",
       "    </tr>\n",
       "    <tr>\n",
       "      <th>573</th>\n",
       "      <td>[-20.088193666967648, -31.342269881611685, -25...</td>\n",
       "      <td>VF</td>\n",
       "    </tr>\n",
       "    <tr>\n",
       "      <th>574</th>\n",
       "      <td>[-301.7315460914758, -315.5198562575715, -505....</td>\n",
       "      <td>VF</td>\n",
       "    </tr>\n",
       "    <tr>\n",
       "      <th>575</th>\n",
       "      <td>[-523.0133279656789, -507.4255423561594, -463....</td>\n",
       "      <td>VF</td>\n",
       "    </tr>\n",
       "    <tr>\n",
       "      <th>576</th>\n",
       "      <td>[-153.61810871456004, -150.14002269903895, -15...</td>\n",
       "      <td>VF</td>\n",
       "    </tr>\n",
       "    <tr>\n",
       "      <th>577</th>\n",
       "      <td>[-122.49237067591847, -132.01400881375196, -12...</td>\n",
       "      <td>VF</td>\n",
       "    </tr>\n",
       "    <tr>\n",
       "      <th>578</th>\n",
       "      <td>[-102.19748480761463, -96.98635770979767, -101...</td>\n",
       "      <td>VF</td>\n",
       "    </tr>\n",
       "    <tr>\n",
       "      <th>579</th>\n",
       "      <td>[30.52304752602874, 23.752833428990463, 14.451...</td>\n",
       "      <td>VF</td>\n",
       "    </tr>\n",
       "    <tr>\n",
       "      <th>580</th>\n",
       "      <td>[-302.0868829148988, -292.39975331528916, -262...</td>\n",
       "      <td>VF</td>\n",
       "    </tr>\n",
       "    <tr>\n",
       "      <th>581</th>\n",
       "      <td>[-103.29127573884888, 45.3849852584947, 195.15...</td>\n",
       "      <td>VF</td>\n",
       "    </tr>\n",
       "    <tr>\n",
       "      <th>582</th>\n",
       "      <td>[0.42609167767659784, 90.94168489209729, 159.5...</td>\n",
       "      <td>VF</td>\n",
       "    </tr>\n",
       "    <tr>\n",
       "      <th>583</th>\n",
       "      <td>[281.5712010317593, 296.5559898772342, 350.724...</td>\n",
       "      <td>VF</td>\n",
       "    </tr>\n",
       "    <tr>\n",
       "      <th>584</th>\n",
       "      <td>[498.4713176351266, 553.0253856918677, 596.544...</td>\n",
       "      <td>VF</td>\n",
       "    </tr>\n",
       "    <tr>\n",
       "      <th>585</th>\n",
       "      <td>[-346.3876933053859, -385.7867133927145, -418....</td>\n",
       "      <td>VF</td>\n",
       "    </tr>\n",
       "    <tr>\n",
       "      <th>586</th>\n",
       "      <td>[-703.5883459345854, -528.8799550984681, -389....</td>\n",
       "      <td>VF</td>\n",
       "    </tr>\n",
       "    <tr>\n",
       "      <th>587</th>\n",
       "      <td>[84.693306258884, 144.26173233585132, 199.5158...</td>\n",
       "      <td>VF</td>\n",
       "    </tr>\n",
       "    <tr>\n",
       "      <th>588</th>\n",
       "      <td>[314.5979295471562, 306.1033281087528, 281.377...</td>\n",
       "      <td>VF</td>\n",
       "    </tr>\n",
       "    <tr>\n",
       "      <th>589</th>\n",
       "      <td>[-364.2165647300887, -346.6530126824402, -324....</td>\n",
       "      <td>VF</td>\n",
       "    </tr>\n",
       "    <tr>\n",
       "      <th>590</th>\n",
       "      <td>[-245.7848731132956, -246.78189464938336, -249...</td>\n",
       "      <td>VF</td>\n",
       "    </tr>\n",
       "    <tr>\n",
       "      <th>591</th>\n",
       "      <td>[-603.5874955793503, -597.3271184492215, -583....</td>\n",
       "      <td>VF</td>\n",
       "    </tr>\n",
       "    <tr>\n",
       "      <th>592</th>\n",
       "      <td>[-464.9091588920607, -484.7744486997489, -510....</td>\n",
       "      <td>VF</td>\n",
       "    </tr>\n",
       "    <tr>\n",
       "      <th>593</th>\n",
       "      <td>[546.2394283746164, 501.19904275839144, 437.75...</td>\n",
       "      <td>VF</td>\n",
       "    </tr>\n",
       "  </tbody>\n",
       "</table>\n",
       "<p>594 rows × 2 columns</p>\n",
       "</div>"
      ],
      "text/plain": [
       "                                                Signal Classification\n",
       "0    [29.42975058166, 29.37169797310235, 28.9932382...             SR\n",
       "1    [-8.887452260151282, -6.318858287707609, -4.24...             SR\n",
       "2    [12.790383577957149, 7.893029776621113, 8.0538...             SR\n",
       "3    [-3.836657273045951, -5.199758952374646, -4.43...             SR\n",
       "4    [-25.87328222407625, -21.18422677138712, -16.9...             SR\n",
       "..                                                 ...            ...\n",
       "589  [-364.2165647300887, -346.6530126824402, -324....             VF\n",
       "590  [-245.7848731132956, -246.78189464938336, -249...             VF\n",
       "591  [-603.5874955793503, -597.3271184492215, -583....             VF\n",
       "592  [-464.9091588920607, -484.7744486997489, -510....             VF\n",
       "593  [546.2394283746164, 501.19904275839144, 437.75...             VF\n",
       "\n",
       "[594 rows x 2 columns]"
      ]
     },
     "execution_count": 32,
     "metadata": {},
     "output_type": "execute_result"
    }
   ],
   "source": [
    "all_data"
   ]
  },
  {
   "cell_type": "code",
   "execution_count": 33,
   "metadata": {},
   "outputs": [],
   "source": [
    "from sklearn import preprocessing"
   ]
  },
  {
   "cell_type": "code",
   "execution_count": 34,
   "metadata": {},
   "outputs": [],
   "source": [
    "le = preprocessing.LabelEncoder()"
   ]
  },
  {
   "cell_type": "code",
   "execution_count": 35,
   "metadata": {},
   "outputs": [],
   "source": [
    "data = all_data.copy()"
   ]
  },
  {
   "cell_type": "code",
   "execution_count": 36,
   "metadata": {},
   "outputs": [],
   "source": [
    "data['Classification'] = le.fit_transform(data['Classification'])"
   ]
  },
  {
   "cell_type": "code",
   "execution_count": 37,
   "metadata": {},
   "outputs": [
    {
     "data": {
      "text/html": [
       "<div>\n",
       "<style scoped>\n",
       "    .dataframe tbody tr th:only-of-type {\n",
       "        vertical-align: middle;\n",
       "    }\n",
       "\n",
       "    .dataframe tbody tr th {\n",
       "        vertical-align: top;\n",
       "    }\n",
       "\n",
       "    .dataframe thead th {\n",
       "        text-align: right;\n",
       "    }\n",
       "</style>\n",
       "<table border=\"1\" class=\"dataframe\">\n",
       "  <thead>\n",
       "    <tr style=\"text-align: right;\">\n",
       "      <th></th>\n",
       "      <th>Signal</th>\n",
       "      <th>Classification</th>\n",
       "    </tr>\n",
       "  </thead>\n",
       "  <tbody>\n",
       "    <tr>\n",
       "      <th>0</th>\n",
       "      <td>[29.42975058166, 29.37169797310235, 28.9932382...</td>\n",
       "      <td>0</td>\n",
       "    </tr>\n",
       "    <tr>\n",
       "      <th>1</th>\n",
       "      <td>[-8.887452260151282, -6.318858287707609, -4.24...</td>\n",
       "      <td>0</td>\n",
       "    </tr>\n",
       "    <tr>\n",
       "      <th>2</th>\n",
       "      <td>[12.790383577957149, 7.893029776621113, 8.0538...</td>\n",
       "      <td>0</td>\n",
       "    </tr>\n",
       "    <tr>\n",
       "      <th>3</th>\n",
       "      <td>[-3.836657273045951, -5.199758952374646, -4.43...</td>\n",
       "      <td>0</td>\n",
       "    </tr>\n",
       "    <tr>\n",
       "      <th>4</th>\n",
       "      <td>[-25.87328222407625, -21.18422677138712, -16.9...</td>\n",
       "      <td>0</td>\n",
       "    </tr>\n",
       "  </tbody>\n",
       "</table>\n",
       "</div>"
      ],
      "text/plain": [
       "                                              Signal  Classification\n",
       "0  [29.42975058166, 29.37169797310235, 28.9932382...               0\n",
       "1  [-8.887452260151282, -6.318858287707609, -4.24...               0\n",
       "2  [12.790383577957149, 7.893029776621113, 8.0538...               0\n",
       "3  [-3.836657273045951, -5.199758952374646, -4.43...               0\n",
       "4  [-25.87328222407625, -21.18422677138712, -16.9...               0"
      ]
     },
     "execution_count": 37,
     "metadata": {},
     "output_type": "execute_result"
    }
   ],
   "source": [
    "data.head()"
   ]
  },
  {
   "cell_type": "code",
   "execution_count": 39,
   "metadata": {
    "scrolled": false
   },
   "outputs": [
    {
     "data": {
      "text/plain": [
       "<matplotlib.axes._subplots.AxesSubplot at 0x138be98d0>"
      ]
     },
     "execution_count": 39,
     "metadata": {},
     "output_type": "execute_result"
    },
    {
     "data": {
      "image/png": "[encoded data removed]",
      "text/plain": [
       "<Figure size 432x288 with 1 Axes>"
      ]
     },
     "metadata": {
      "needs_background": "light"
     },
     "output_type": "display_data"
    }
   ],
   "source": [
    "sns.countplot(x='Classification',data = data)"
   ]
  },
  {
   "cell_type": "code",
   "execution_count": 40,
   "metadata": {},
   "outputs": [],
   "source": [
    "data['rnd'] = np.random.rand(len(data))\n",
    "data = data.sort_values(by='rnd').drop('rnd',axis=1)"
   ]
  },
  {
   "cell_type": "code",
   "execution_count": 41,
   "metadata": {
    "scrolled": true
   },
   "outputs": [
    {
     "data": {
      "text/html": [
       "<div>\n",
       "<style scoped>\n",
       "    .dataframe tbody tr th:only-of-type {\n",
       "        vertical-align: middle;\n",
       "    }\n",
       "\n",
       "    .dataframe tbody tr th {\n",
       "        vertical-align: top;\n",
       "    }\n",
       "\n",
       "    .dataframe thead th {\n",
       "        text-align: right;\n",
       "    }\n",
       "</style>\n",
       "<table border=\"1\" class=\"dataframe\">\n",
       "  <thead>\n",
       "    <tr style=\"text-align: right;\">\n",
       "      <th></th>\n",
       "      <th>Signal</th>\n",
       "      <th>Classification</th>\n",
       "    </tr>\n",
       "  </thead>\n",
       "  <tbody>\n",
       "    <tr>\n",
       "      <th>311</th>\n",
       "      <td>[-24.58246175951142, -23.463778665222446, -28....</td>\n",
       "      <td>0</td>\n",
       "    </tr>\n",
       "    <tr>\n",
       "      <th>251</th>\n",
       "      <td>[-24.735072448238746, -29.942883348304658, -24...</td>\n",
       "      <td>0</td>\n",
       "    </tr>\n",
       "    <tr>\n",
       "      <th>110</th>\n",
       "      <td>[19.563521661461408, 19.47279158828802, 14.043...</td>\n",
       "      <td>0</td>\n",
       "    </tr>\n",
       "    <tr>\n",
       "      <th>1</th>\n",
       "      <td>[-8.887452260151282, -6.318858287707609, -4.24...</td>\n",
       "      <td>0</td>\n",
       "    </tr>\n",
       "    <tr>\n",
       "      <th>115</th>\n",
       "      <td>[8.547323102251138, -18.4082237096421, -18.536...</td>\n",
       "      <td>0</td>\n",
       "    </tr>\n",
       "  </tbody>\n",
       "</table>\n",
       "</div>"
      ],
      "text/plain": [
       "                                                Signal  Classification\n",
       "311  [-24.58246175951142, -23.463778665222446, -28....               0\n",
       "251  [-24.735072448238746, -29.942883348304658, -24...               0\n",
       "110  [19.563521661461408, 19.47279158828802, 14.043...               0\n",
       "1    [-8.887452260151282, -6.318858287707609, -4.24...               0\n",
       "115  [8.547323102251138, -18.4082237096421, -18.536...               0"
      ]
     },
     "execution_count": 41,
     "metadata": {},
     "output_type": "execute_result"
    }
   ],
   "source": [
    "data.head()"
   ]
  },
  {
   "cell_type": "code",
   "execution_count": 42,
   "metadata": {},
   "outputs": [],
   "source": [
    "l = 100000\n",
    "for i in data['Signal']:\n",
    "    if len(i)<l:\n",
    "        l = len(i)"
   ]
  },
  {
   "cell_type": "code",
   "execution_count": 43,
   "metadata": {},
   "outputs": [
    {
     "data": {
      "text/plain": [
       "501"
      ]
     },
     "execution_count": 43,
     "metadata": {},
     "output_type": "execute_result"
    }
   ],
   "source": [
    "l"
   ]
  },
  {
   "cell_type": "code",
   "execution_count": 44,
   "metadata": {},
   "outputs": [],
   "source": [
    "data.to_csv(PATH+'train.csv')"
   ]
  },
  {
   "cell_type": "code",
   "execution_count": 45,
   "metadata": {
    "scrolled": false
   },
   "outputs": [
    {
     "data": {
      "text/html": [
       "<div>\n",
       "<style scoped>\n",
       "    .dataframe tbody tr th:only-of-type {\n",
       "        vertical-align: middle;\n",
       "    }\n",
       "\n",
       "    .dataframe tbody tr th {\n",
       "        vertical-align: top;\n",
       "    }\n",
       "\n",
       "    .dataframe thead th {\n",
       "        text-align: right;\n",
       "    }\n",
       "</style>\n",
       "<table border=\"1\" class=\"dataframe\">\n",
       "  <thead>\n",
       "    <tr style=\"text-align: right;\">\n",
       "      <th></th>\n",
       "      <th>Signal</th>\n",
       "      <th>Classification</th>\n",
       "    </tr>\n",
       "  </thead>\n",
       "  <tbody>\n",
       "    <tr>\n",
       "      <th>311</th>\n",
       "      <td>[-24.58246175951142, -23.463778665222446, -28....</td>\n",
       "      <td>0</td>\n",
       "    </tr>\n",
       "    <tr>\n",
       "      <th>251</th>\n",
       "      <td>[-24.735072448238746, -29.942883348304658, -24...</td>\n",
       "      <td>0</td>\n",
       "    </tr>\n",
       "    <tr>\n",
       "      <th>110</th>\n",
       "      <td>[19.563521661461408, 19.47279158828802, 14.043...</td>\n",
       "      <td>0</td>\n",
       "    </tr>\n",
       "    <tr>\n",
       "      <th>1</th>\n",
       "      <td>[-8.887452260151282, -6.318858287707609, -4.24...</td>\n",
       "      <td>0</td>\n",
       "    </tr>\n",
       "    <tr>\n",
       "      <th>115</th>\n",
       "      <td>[8.547323102251138, -18.4082237096421, -18.536...</td>\n",
       "      <td>0</td>\n",
       "    </tr>\n",
       "  </tbody>\n",
       "</table>\n",
       "</div>"
      ],
      "text/plain": [
       "                                                Signal  Classification\n",
       "311  [-24.58246175951142, -23.463778665222446, -28....               0\n",
       "251  [-24.735072448238746, -29.942883348304658, -24...               0\n",
       "110  [19.563521661461408, 19.47279158828802, 14.043...               0\n",
       "1    [-8.887452260151282, -6.318858287707609, -4.24...               0\n",
       "115  [8.547323102251138, -18.4082237096421, -18.536...               0"
      ]
     },
     "execution_count": 45,
     "metadata": {},
     "output_type": "execute_result"
    }
   ],
   "source": [
    "data.head()"
   ]
  },
  {
   "cell_type": "code",
   "execution_count": 49,
   "metadata": {},
   "outputs": [
    {
     "data": {
      "text/plain": [
       "7"
      ]
     },
     "execution_count": 49,
     "metadata": {},
     "output_type": "execute_result"
    },
    {
     "data": {
      "text/plain": [
       "3"
      ]
     },
     "execution_count": 49,
     "metadata": {},
     "output_type": "execute_result"
    }
   ],
   "source": [
    "li = [3,4,5,6,7]\n",
    "max(li)\n",
    "min(li)"
   ]
  },
  {
   "cell_type": "code",
   "execution_count": 56,
   "metadata": {},
   "outputs": [],
   "source": [
    "def regular(li):\n",
    "    max_li = max(li)\n",
    "    min_li = min(li)\n",
    "    length = max_li - min_li\n",
    "    for ele in range(len(li)):\n",
    "        li[ele] = (li[ele]-min_li)/length\n",
    "    return li   "
   ]
  },
  {
   "cell_type": "code",
   "execution_count": 63,
   "metadata": {},
   "outputs": [],
   "source": [
    "data.Signal = data.Signal.map(regular)"
   ]
  },
  {
   "cell_type": "code",
   "execution_count": 64,
   "metadata": {},
   "outputs": [
    {
     "data": {
      "text/html": [
       "<div>\n",
       "<style scoped>\n",
       "    .dataframe tbody tr th:only-of-type {\n",
       "        vertical-align: middle;\n",
       "    }\n",
       "\n",
       "    .dataframe tbody tr th {\n",
       "        vertical-align: top;\n",
       "    }\n",
       "\n",
       "    .dataframe thead th {\n",
       "        text-align: right;\n",
       "    }\n",
       "</style>\n",
       "<table border=\"1\" class=\"dataframe\">\n",
       "  <thead>\n",
       "    <tr style=\"text-align: right;\">\n",
       "      <th></th>\n",
       "      <th>Signal</th>\n",
       "      <th>Classification</th>\n",
       "    </tr>\n",
       "  </thead>\n",
       "  <tbody>\n",
       "    <tr>\n",
       "      <th>311</th>\n",
       "      <td>[0.3799707594382002, 0.38187862703805864, 0.37...</td>\n",
       "      <td>0</td>\n",
       "    </tr>\n",
       "    <tr>\n",
       "      <th>251</th>\n",
       "      <td>[0.1558212096040829, 0.1397775864509801, 0.156...</td>\n",
       "      <td>0</td>\n",
       "    </tr>\n",
       "    <tr>\n",
       "      <th>110</th>\n",
       "      <td>[0.5607927484662847, 0.5606883902097085, 0.554...</td>\n",
       "      <td>0</td>\n",
       "    </tr>\n",
       "    <tr>\n",
       "      <th>1</th>\n",
       "      <td>[0.4909542186047959, 0.493689271221415, 0.4959...</td>\n",
       "      <td>0</td>\n",
       "    </tr>\n",
       "    <tr>\n",
       "      <th>115</th>\n",
       "      <td>[0.5936254087688092, 0.5544081532339095, 0.554...</td>\n",
       "      <td>0</td>\n",
       "    </tr>\n",
       "  </tbody>\n",
       "</table>\n",
       "</div>"
      ],
      "text/plain": [
       "                                                Signal  Classification\n",
       "311  [0.3799707594382002, 0.38187862703805864, 0.37...               0\n",
       "251  [0.1558212096040829, 0.1397775864509801, 0.156...               0\n",
       "110  [0.5607927484662847, 0.5606883902097085, 0.554...               0\n",
       "1    [0.4909542186047959, 0.493689271221415, 0.4959...               0\n",
       "115  [0.5936254087688092, 0.5544081532339095, 0.554...               0"
      ]
     },
     "execution_count": 64,
     "metadata": {},
     "output_type": "execute_result"
    }
   ],
   "source": [
    "data.head()"
   ]
  },
  {
   "cell_type": "code",
   "execution_count": 65,
   "metadata": {},
   "outputs": [],
   "source": [
    "X = pad_sequences(data['Signal'], maxlen=500, padding='post')\n"
   ]
  },
  {
   "cell_type": "code",
   "execution_count": 66,
   "metadata": {
    "scrolled": true
   },
   "outputs": [
    {
     "data": {
      "text/plain": [
       "(594, 500)"
      ]
     },
     "execution_count": 66,
     "metadata": {},
     "output_type": "execute_result"
    }
   ],
   "source": [
    "X.shape"
   ]
  },
  {
   "cell_type": "code",
   "execution_count": 67,
   "metadata": {},
   "outputs": [],
   "source": [
    "y = data['Classification'].values"
   ]
  },
  {
   "cell_type": "code",
   "execution_count": 68,
   "metadata": {},
   "outputs": [],
   "source": [
    "from sklearn.model_selection import train_test_split"
   ]
  },
  {
   "cell_type": "code",
   "execution_count": 69,
   "metadata": {},
   "outputs": [],
   "source": [
    "x_train, x_test, y_train, y_test = train_test_split(X, y, test_size=0.05)"
   ]
  },
  {
   "cell_type": "code",
   "execution_count": 70,
   "metadata": {},
   "outputs": [],
   "source": [
    "import tensorflow as tf"
   ]
  },
  {
   "cell_type": "code",
   "execution_count": 82,
   "metadata": {},
   "outputs": [
    {
     "name": "stdout",
     "output_type": "stream",
     "text": [
      "_________________________________________________________________\n",
      "Layer (type)                 Output Shape              Param #   \n",
      "=================================================================\n",
      "dense_11 (Dense)             (None, 16)                8016      \n",
      "_________________________________________________________________\n",
      "dropout_3 (Dropout)          (None, 16)                0         \n",
      "_________________________________________________________________\n",
      "dense_12 (Dense)             (None, 4)                 68        \n",
      "_________________________________________________________________\n",
      "dense_13 (Dense)             (None, 3)                 15        \n",
      "=================================================================\n",
      "Total params: 8,099\n",
      "Trainable params: 8,099\n",
      "Non-trainable params: 0\n",
      "_________________________________________________________________\n",
      "None\n"
     ]
    }
   ],
   "source": [
    "model3 = Sequential()\n",
    "model3.add(Dense(16,input_shape=(500,),activation='relu'))\n",
    "model3.add(Dropout(0.5))\n",
    "model3.add(Dense(4,activation='relu'))\n",
    "model3.add(Dense(3,activation='softmax'))\n",
    "model3.compile(loss='sparse_categorical_crossentropy', optimizer='adam', metrics=['accuracy'])\n",
    "print(model3.summary())"
   ]
  },
  {
   "cell_type": "code",
   "execution_count": 84,
   "metadata": {},
   "outputs": [
    {
     "name": "stdout",
     "output_type": "stream",
     "text": [
      "Epoch 1/30\n",
      "564/564 [==============================] - 0s 68us/step - loss: 0.9258 - acc: 0.8209\n",
      "Epoch 2/30\n",
      "564/564 [==============================] - 0s 62us/step - loss: 0.8585 - acc: 0.8209\n",
      "Epoch 3/30\n",
      "564/564 [==============================] - 0s 56us/step - loss: 0.7825 - acc: 0.8209\n",
      "Epoch 4/30\n",
      "564/564 [==============================] - 0s 55us/step - loss: 0.7157 - acc: 0.8209\n",
      "Epoch 5/30\n",
      "564/564 [==============================] - 0s 54us/step - loss: 0.6656 - acc: 0.8209\n",
      "Epoch 6/30\n",
      "564/564 [==============================] - 0s 56us/step - loss: 0.6318 - acc: 0.8209\n",
      "Epoch 7/30\n",
      "564/564 [==============================] - 0s 53us/step - loss: 0.6112 - acc: 0.8209\n",
      "Epoch 8/30\n",
      "564/564 [==============================] - 0s 62us/step - loss: 0.6010 - acc: 0.8209\n",
      "Epoch 9/30\n",
      "564/564 [==============================] - 0s 70us/step - loss: 0.6059 - acc: 0.8209\n",
      "Epoch 10/30\n",
      "564/564 [==============================] - 0s 55us/step - loss: 0.5870 - acc: 0.8209\n",
      "Epoch 11/30\n",
      "564/564 [==============================] - 0s 55us/step - loss: 0.5681 - acc: 0.8209\n",
      "Epoch 12/30\n",
      "564/564 [==============================] - 0s 54us/step - loss: 0.5778 - acc: 0.8209\n",
      "Epoch 13/30\n",
      "564/564 [==============================] - 0s 57us/step - loss: 0.5588 - acc: 0.8209\n",
      "Epoch 14/30\n",
      "564/564 [==============================] - 0s 61us/step - loss: 0.5672 - acc: 0.8209\n",
      "Epoch 15/30\n",
      "564/564 [==============================] - 0s 57us/step - loss: 0.5584 - acc: 0.8209\n",
      "Epoch 16/30\n",
      "564/564 [==============================] - 0s 57us/step - loss: 0.5611 - acc: 0.8209\n",
      "Epoch 17/30\n",
      "564/564 [==============================] - 0s 67us/step - loss: 0.5541 - acc: 0.8209\n",
      "Epoch 18/30\n",
      "564/564 [==============================] - 0s 56us/step - loss: 0.5530 - acc: 0.8209\n",
      "Epoch 19/30\n",
      "564/564 [==============================] - 0s 59us/step - loss: 0.5470 - acc: 0.8209\n",
      "Epoch 20/30\n",
      "564/564 [==============================] - 0s 66us/step - loss: 0.5417 - acc: 0.8209\n",
      "Epoch 21/30\n",
      "564/564 [==============================] - 0s 81us/step - loss: 0.5502 - acc: 0.8209\n",
      "Epoch 22/30\n",
      "564/564 [==============================] - 0s 84us/step - loss: 0.5367 - acc: 0.8209\n",
      "Epoch 23/30\n",
      "564/564 [==============================] - 0s 68us/step - loss: 0.5388 - acc: 0.8209\n",
      "Epoch 24/30\n",
      "564/564 [==============================] - 0s 78us/step - loss: 0.5452 - acc: 0.8209\n",
      "Epoch 25/30\n",
      "564/564 [==============================] - 0s 66us/step - loss: 0.5184 - acc: 0.8209\n",
      "Epoch 26/30\n",
      "564/564 [==============================] - 0s 70us/step - loss: 0.5324 - acc: 0.8209\n",
      "Epoch 27/30\n",
      "564/564 [==============================] - 0s 70us/step - loss: 0.5123 - acc: 0.8209\n",
      "Epoch 28/30\n",
      "564/564 [==============================] - 0s 68us/step - loss: 0.5259 - acc: 0.8209\n",
      "Epoch 29/30\n",
      "564/564 [==============================] - 0s 69us/step - loss: 0.5022 - acc: 0.8209\n",
      "Epoch 30/30\n",
      "564/564 [==============================] - 0s 67us/step - loss: 0.5149 - acc: 0.8209\n"
     ]
    },
    {
     "data": {
      "text/plain": [
       "<keras.callbacks.History at 0x13c411a20>"
      ]
     },
     "execution_count": 84,
     "metadata": {},
     "output_type": "execute_result"
    }
   ],
   "source": [
    "model3.fit(x_train,y_train,epochs=30)"
   ]
  },
  {
   "cell_type": "code",
   "execution_count": 85,
   "metadata": {},
   "outputs": [],
   "source": [
    "predictions = model3.predict(x_test)"
   ]
  },
  {
   "cell_type": "code",
   "execution_count": 90,
   "metadata": {},
   "outputs": [
    {
     "data": {
      "text/plain": [
       "numpy.ndarray"
      ]
     },
     "execution_count": 90,
     "metadata": {},
     "output_type": "execute_result"
    }
   ],
   "source": [
    "type(predictions[0])"
   ]
  },
  {
   "cell_type": "code",
   "execution_count": 93,
   "metadata": {},
   "outputs": [],
   "source": [
    "def output_res(predictions):\n",
    "    res = []\n",
    "    for i in range(len(predictions)):\n",
    "        tmp = np.argmax(predictions[i])\n",
    "        if tmp == 0:\n",
    "            res.append('SR')\n",
    "        elif tmp == 1:\n",
    "            res.append('VT')\n",
    "        elif tmp == 2:\n",
    "            res.append('VF')\n",
    "        else:\n",
    "            res.append('Unknown')\n",
    "    return res"
   ]
  },
  {
   "cell_type": "code",
   "execution_count": 94,
   "metadata": {},
   "outputs": [],
   "source": [
    "res = output_res(predictions)"
   ]
  },
  {
   "cell_type": "code",
   "execution_count": 95,
   "metadata": {},
   "outputs": [
    {
     "data": {
      "text/plain": [
       "['SR',\n",
       " 'SR',\n",
       " 'SR',\n",
       " 'SR',\n",
       " 'SR',\n",
       " 'SR',\n",
       " 'SR',\n",
       " 'SR',\n",
       " 'SR',\n",
       " 'SR',\n",
       " 'SR',\n",
       " 'SR',\n",
       " 'SR',\n",
       " 'SR',\n",
       " 'SR',\n",
       " 'SR',\n",
       " 'SR',\n",
       " 'SR',\n",
       " 'SR',\n",
       " 'SR',\n",
       " 'SR',\n",
       " 'SR',\n",
       " 'SR',\n",
       " 'SR',\n",
       " 'SR',\n",
       " 'SR',\n",
       " 'SR',\n",
       " 'SR',\n",
       " 'SR',\n",
       " 'SR']"
      ]
     },
     "execution_count": 95,
     "metadata": {},
     "output_type": "execute_result"
    }
   ],
   "source": [
    "res"
   ]
  },
  {
   "cell_type": "code",
   "execution_count": null,
   "metadata": {},
   "outputs": [],
   "source": []
  }
 ],
 "metadata": {
  "kernelspec": {
   "display_name": "Python 3",
   "language": "python",
   "name": "python3"
  },
  "language_info": {
   "codemirror_mode": {
    "name": "ipython",
    "version": 3
   },
   "file_extension": ".py",
   "mimetype": "text/x-python",
   "name": "python",
   "nbconvert_exporter": "python",
   "pygments_lexer": "ipython3",
   "version": "3.6.8"
  }
 },
 "nbformat": 4,
 "nbformat_minor": 2
}
